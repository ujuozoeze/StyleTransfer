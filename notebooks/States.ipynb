{
 "cells": [
  {
   "cell_type": "code",
   "execution_count": null,
   "metadata": {},
   "outputs": [],
   "source": [
    "import datajoint as dj"
   ]
  },
  {
   "cell_type": "code",
   "execution_count": null,
   "metadata": {},
   "outputs": [],
   "source": [
    "%matplotlib inline\n",
    "from matplotlib import pyplot as plt"
   ]
  },
  {
   "cell_type": "code",
   "execution_count": null,
   "metadata": {},
   "outputs": [],
   "source": [
    "schema = dj.schema('states')"
   ]
  },
  {
   "cell_type": "code",
   "execution_count": null,
   "metadata": {},
   "outputs": [],
   "source": [
    "states = dict(\n",
    "    AL='Alabama',        AK='Alaska',       AZ='Arizona',      AR='Arkansas',\n",
    "    CA='California',     CO='Colorado',     CT='Connecticut',  DE='Delaware',\n",
    "    FL='Florida',        GA='Georgia',      HI='Hawaii',       ID='Idaho', \n",
    "    IL='Illinois',       IN='Indiana',      IA='Iowa',         KS='Kansas',\n",
    "    KY='Kentucky',       LA='Louisiana',    ME='Maine',        MD='Maryland',\n",
    "    MA='Massachusetts',  MI='Michigan',     MN='Minnesota',    MS='Mississippi',\n",
    "    MO='Missouri',       MT='Montana',      NE='Nebraska',     NV='Nevada',\n",
    "    NH='New Hampshire',  NJ='New Jersey',   NM='New Mexico',   NY='New York',\n",
    "    NC='North Carolina', ND='North Dakota', OH='Ohio',         OK='Oklahoma',\n",
    "    OR='Oregon',         PA='Pennsylvania', RI='Rhode Island', SC='South Carolina',\n",
    "    SD='South Dakota',   TN='Tennessee',    TX='Texas',        UT='Utah',\n",
    "    VT='Vermont',        VA='Virginia',     WA='Washington',   WV='West Virginia', \n",
    "    WI='Wisconsin',      WY='Wyoming')"
   ]
  },
  {
   "cell_type": "code",
   "execution_count": null,
   "metadata": {},
   "outputs": [],
   "source": [
    "@schema\n",
    "class State(dj.Lookup):\n",
    "    definition = \"\"\"\n",
    "    # United States\n",
    "    state_code : char(2)\n",
    "    ---\n",
    "    state : varchar(20)\n",
    "    \"\"\"\n",
    "    contents = states.items()"
   ]
  },
  {
   "cell_type": "code",
   "execution_count": null,
   "metadata": {},
   "outputs": [],
   "source": [
    "State()"
   ]
  },
  {
   "cell_type": "code",
   "execution_count": null,
   "metadata": {},
   "outputs": [],
   "source": [
    "dj.Diagram(schema)"
   ]
  },
  {
   "cell_type": "code",
   "execution_count": null,
   "metadata": {},
   "outputs": [],
   "source": [
    "@schema\n",
    "class StateBird(dj.Imported):\n",
    "    definition = \"\"\"\n",
    "    -> State\n",
    "    ---\n",
    "    bird_image : longblob    \n",
    "    \"\"\"\n",
    "    \n",
    "    url_template = \"http://www.theus50.com/images/state-birds/{state}-bird.jpg\"\n",
    "    \n",
    "    def make(self, key):\n",
    "        # fetch data upstream\n",
    "        state = (State & key).fetch1('state')\n",
    "        \n",
    "        # compute\n",
    "        url = self.url_template.format(state=state.lower().replace(' ', ''))\n",
    "        temp_file = 'tmp.jpg'\n",
    "        with open(temp_file, 'wb') as f:\n",
    "            f.write(requests.get(url).content)\n",
    "        \n",
    "        # insert into self\n",
    "        self.insert1(dict(key, bird_image=plt.imread(temp_file)))"
   ]
  },
  {
   "cell_type": "code",
   "execution_count": null,
   "metadata": {},
   "outputs": [],
   "source": [
    "StateBird().populate(display_progress=True, suppress_errors=True)"
   ]
  },
  {
   "cell_type": "code",
   "execution_count": null,
   "metadata": {},
   "outputs": [],
   "source": [
    "StateBird()"
   ]
  },
  {
   "cell_type": "code",
   "execution_count": null,
   "metadata": {},
   "outputs": [],
   "source": [
    "img = (StateBird & {'state_code': \"TX\"}).fetch1('bird_image')"
   ]
  },
  {
   "cell_type": "code",
   "execution_count": null,
   "metadata": {},
   "outputs": [],
   "source": [
    "plt.imshow(img)"
   ]
  },
  {
   "cell_type": "code",
   "execution_count": null,
   "metadata": {},
   "outputs": [],
   "source": [
    "@schema\n",
    "class StateFlag(dj.Imported):\n",
    "    definition = \"\"\"\n",
    "    -> State\n",
    "    ---\n",
    "    flag_image : longblob    \n",
    "    \"\"\"\n",
    "    \n",
    "    url_template = \"http://www.theus50.com/images/state-flags/{state}-flag.jpg\"\n",
    "    \n",
    "    def make(self, key):\n",
    "        state = (State & key).fetch1('state')\n",
    "        url = self.url_template.format(state=state.lower().replace(' ', ''))\n",
    "        temp_file = 'tmp.jpg'\n",
    "        with open(temp_file, 'wb') as f:\n",
    "            f.write(requests.get(url).content)\n",
    "        self.insert1(dict(key, flag_image=plt.imread(temp_file)))"
   ]
  },
  {
   "cell_type": "code",
   "execution_count": null,
   "metadata": {},
   "outputs": [],
   "source": [
    "StateFlag.populate(display_progress=True, suppress_errors=True)"
   ]
  },
  {
   "cell_type": "code",
   "execution_count": null,
   "metadata": {},
   "outputs": [],
   "source": [
    "@schema\n",
    "class StateFlower(dj.Imported):\n",
    "    definition = \"\"\"\n",
    "    -> State\n",
    "    ---\n",
    "    flower_image : longblob    \n",
    "    \"\"\"\n",
    "    \n",
    "    url_template = \"http://www.theus50.com/images/state-flowers/{state}-flower.jpg\"\n",
    "    \n",
    "    def make(self, key):\n",
    "        state = (State & key).fetch1('state')\n",
    "        url = self.url_template.format(state=state.lower().replace(' ', ''))\n",
    "        temp_file = 'tmp.jpg'\n",
    "        with open(temp_file, 'wb') as f:\n",
    "            f.write(requests.get(url).content)\n",
    "        self.insert1(dict(key, flower_image=plt.imread(temp_file)))"
   ]
  },
  {
   "cell_type": "code",
   "execution_count": null,
   "metadata": {},
   "outputs": [],
   "source": [
    "StateFlower.populate(display_progress=True)"
   ]
  },
  {
   "cell_type": "code",
   "execution_count": null,
   "metadata": {},
   "outputs": [],
   "source": [
    "dj.Diagram(schema)"
   ]
  },
  {
   "cell_type": "code",
   "execution_count": null,
   "metadata": {},
   "outputs": [],
   "source": [
    "plt.imshow((StateFlag & {'state_code': 'WA'}).fetch1('flag_image'))\n",
    "plt.axis(False);"
   ]
  },
  {
   "cell_type": "code",
   "execution_count": null,
   "metadata": {},
   "outputs": [],
   "source": [
    "StateFlag * State"
   ]
  },
  {
   "cell_type": "code",
   "execution_count": null,
   "metadata": {},
   "outputs": [],
   "source": [
    "fig, axx = plt.subplots(5, 10, figsize=(16, 7))\n",
    "\n",
    "for ax, info in zip(axx.flatten(), \n",
    "                    (StateFlag*State).fetch(as_dict=True)):\n",
    "    ax.imshow(info['flag_image'])\n",
    "    ax.set_title(info['state'])\n",
    "    ax.axis(False)"
   ]
  },
  {
   "cell_type": "code",
   "execution_count": null,
   "metadata": {},
   "outputs": [],
   "source": [
    "fig, axx = plt.subplots(5, 10, figsize=(16, 7))\n",
    "for ax, info in zip(axx.flatten(), \n",
    "                    (StateBird*State).fetch(as_dict=True)):\n",
    "    ax.imshow(info['bird_image'])\n",
    "    ax.set_title(info['state'])\n",
    "    ax.axis(False)"
   ]
  },
  {
   "cell_type": "code",
   "execution_count": null,
   "metadata": {},
   "outputs": [],
   "source": [
    "fig, axx = plt.subplots(5, 10, figsize=(16, 7))\n",
    "for ax, info in zip(axx.flatten(), \n",
    "                    (StateFlower*State).fetch(as_dict=True)):\n",
    "    ax.imshow(info['flower_image'])\n",
    "    ax.set_title(info['state'])\n",
    "    ax.axis(False)"
   ]
  },
  {
   "cell_type": "code",
   "execution_count": null,
   "metadata": {},
   "outputs": [],
   "source": [
    "@schema\n",
    "class FlagSaturation(dj.Computed):\n",
    "    definition = \"\"\"\n",
    "    -> StateFlag\n",
    "    ---\n",
    "    saturation :  float \n",
    "    \"\"\"\n",
    "    \n",
    "    def make(self, key):\n",
    "        img = (StateFlag & key).fetch1('flag_image')\n",
    "        avg_color = img.mean(axis=(0,1))\n",
    "        sat = avg_color.max()/avg_color.sum()\n",
    "        self.insert1(dict(key, saturation=sat))\n",
    "        "
   ]
  },
  {
   "cell_type": "code",
   "execution_count": null,
   "metadata": {},
   "outputs": [],
   "source": [
    "FlagSaturation.populate()"
   ]
  },
  {
   "cell_type": "code",
   "execution_count": null,
   "metadata": {},
   "outputs": [],
   "source": [
    "FlagSaturation * State * StateFlag"
   ]
  },
  {
   "cell_type": "code",
   "execution_count": null,
   "metadata": {},
   "outputs": [],
   "source": [
    "fig, axx = plt.subplots(5, 10, figsize=(16, 7))\n",
    "\n",
    "for ax, info in zip(axx.flatten(), \n",
    "                    (StateFlag*State*FlagSaturation).fetch(as_dict=True, order_by='saturation')):\n",
    "    ax.imshow(info['flag_image'])\n",
    "    ax.set_title(info['state'])\n",
    "    ax.axis(False)"
   ]
  },
  {
   "cell_type": "code",
   "execution_count": null,
   "metadata": {},
   "outputs": [],
   "source": [
    "dj.Diagram(schema)"
   ]
  },
  {
   "cell_type": "code",
   "execution_count": null,
   "metadata": {},
   "outputs": [],
   "source": [
    "StateFlower.populate()\n",
    "StateFlag.populate()\n",
    "StateBird.populate()\n",
    "FlagSaturation.populate()"
   ]
  },
  {
   "cell_type": "code",
   "execution_count": null,
   "metadata": {},
   "outputs": [],
   "source": [
    "@schema\n",
    "class FlagBrightness(dj.Computed):\n",
    "    definition = \"\"\"\n",
    "    -> StateFlag\n",
    "    ---\n",
    "    brightness :  float \n",
    "    \"\"\"\n",
    "    \n",
    "    def make(self, key):\n",
    "        img = (StateFlag & key).fetch1('flag_image')\n",
    "        self.insert1(dict(key, brightness=img.mean()))"
   ]
  },
  {
   "cell_type": "code",
   "execution_count": null,
   "metadata": {},
   "outputs": [],
   "source": [
    "FlagBrightness.populate()"
   ]
  },
  {
   "cell_type": "code",
   "execution_count": null,
   "metadata": {},
   "outputs": [],
   "source": [
    "fig, axx = plt.subplots(5, 10, figsize=(16, 7))\n",
    "\n",
    "for ax, info in zip(axx.flatten(), \n",
    "                    (StateFlag*State*FlagBrightness).fetch(as_dict=True, order_by='brightness')):\n",
    "    ax.imshow(info['flag_image'])\n",
    "    ax.set_title(info['state'])\n",
    "    ax.axis(False)"
   ]
  },
  {
   "cell_type": "code",
   "execution_count": null,
   "metadata": {},
   "outputs": [],
   "source": [
    "@schema\n",
    "class FlagContrast(dj.Computed):\n",
    "    definition = \"\"\"\n",
    "    -> FlagBrightness\n",
    "    ---\n",
    "    contrast :  float \n",
    "    \"\"\"\n",
    "    \n",
    "    def make(self, key):\n",
    "        img, brightness = (StateFlag * FlagBrightness & key).fetch1('flag_image', 'brightness')\n",
    "        self.insert1(dict(key, contrast=img.mean(axis=-1).std()/brightness))"
   ]
  },
  {
   "cell_type": "code",
   "execution_count": null,
   "metadata": {},
   "outputs": [],
   "source": [
    "FlagContrast.populate(display_progress=True)"
   ]
  },
  {
   "cell_type": "code",
   "execution_count": null,
   "metadata": {},
   "outputs": [],
   "source": [
    "fig, axx = plt.subplots(5, 10, figsize=(16, 7))\n",
    "\n",
    "for ax, info in zip(axx.flatten(), \n",
    "                    (StateFlag*State*FlagContrast).fetch(as_dict=True, order_by='contrast')):\n",
    "    ax.imshow(info['flag_image'])\n",
    "    ax.set_title(info['state'])\n",
    "    ax.axis(False)"
   ]
  },
  {
   "cell_type": "code",
   "execution_count": null,
   "metadata": {},
   "outputs": [],
   "source": [
    "dj.Diagram(schema)"
   ]
  },
  {
   "cell_type": "code",
   "execution_count": null,
   "metadata": {},
   "outputs": [],
   "source": []
  }
 ],
 "metadata": {
  "kernelspec": {
   "display_name": "Python 3",
   "language": "python",
   "name": "python3"
  },
  "language_info": {
   "codemirror_mode": {
    "name": "ipython",
    "version": 3
   },
   "file_extension": ".py",
   "mimetype": "text/x-python",
   "name": "python",
   "nbconvert_exporter": "python",
   "pygments_lexer": "ipython3",
   "version": "3.8.5"
  }
 },
 "nbformat": 4,
 "nbformat_minor": 2
}
